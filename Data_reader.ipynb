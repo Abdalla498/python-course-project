{
 "cells": [
  {
   "cell_type": "code",
   "execution_count": 31,
   "id": "e6624aeb-07b5-4a7f-904c-aec8ef0ebf85",
   "metadata": {},
   "outputs": [],
   "source": [
    "import pandas as pd"
   ]
  },
  {
   "cell_type": "code",
   "execution_count": 32,
   "id": "72f328fe-c1ac-4734-b9f7-b65afd3d5901",
   "metadata": {},
   "outputs": [],
   "source": [
    "def read_data(file_path):\n",
    "    extension = file_path.split('.')[-1].lower()\n",
    "    \n",
    "    if extension == 'csv':\n",
    "        df = pd.read_csv(file_path)\n",
    "    elif extension == 'json':\n",
    "        df = pd.read_json(file_path)\n",
    "    elif extension in ['xls', 'xlsx']:\n",
    "        df = pd.read_excel(file_path)\n",
    "    else:\n",
    "        raise ValueError(\"Unsupported file type.\")\n",
    "    \n",
    "    return df\n"
   ]
  },
  {
   "cell_type": "code",
   "execution_count": 33,
   "id": "09eee876-fe6e-4448-b5a1-51b9e117e6ce",
   "metadata": {},
   "outputs": [],
   "source": [
    "def summarize_data(df):\n",
    "    rows, cols = df.shape\n",
    "    print(f\"The dataset contains {rows} rows and {cols} columns.\")\n"
   ]
  },
  {
   "cell_type": "code",
   "execution_count": 34,
   "id": "6c0eec11-c5b8-4cf5-8380-de65c0d8e422",
   "metadata": {},
   "outputs": [],
   "source": [
    "def count_missing_values(df, column_name):\n",
    "    if column_name not in df.columns:\n",
    "        print(f\"Error: Column '{column_name}' does not exist.\")\n",
    "        return\n",
    "    \n",
    "    missing_count = 0\n",
    "    for value in df[column_name]:\n",
    "        if pd.isna(value):\n",
    "            missing_count += 1\n",
    "\n",
    "    return missing_count\n"
   ]
  },
  {
   "cell_type": "code",
   "execution_count": 42,
   "id": "5b4967cd-ddcc-4725-a9c8-485e7623c157",
   "metadata": {},
   "outputs": [
    {
     "name": "stdout",
     "output_type": "stream",
     "text": [
      "Data loaded successfully.\n"
     ]
    },
    {
     "data": {
      "text/html": [
       "<div>\n",
       "<style scoped>\n",
       "    .dataframe tbody tr th:only-of-type {\n",
       "        vertical-align: middle;\n",
       "    }\n",
       "\n",
       "    .dataframe tbody tr th {\n",
       "        vertical-align: top;\n",
       "    }\n",
       "\n",
       "    .dataframe thead th {\n",
       "        text-align: right;\n",
       "    }\n",
       "</style>\n",
       "<table border=\"1\" class=\"dataframe\">\n",
       "  <thead>\n",
       "    <tr style=\"text-align: right;\">\n",
       "      <th></th>\n",
       "      <th>datetime</th>\n",
       "      <th>temperature_C</th>\n",
       "      <th>wind_speed_mps</th>\n",
       "      <th>humidity_percent</th>\n",
       "      <th>rainfall_mm</th>\n",
       "      <th>soil_moisture_percent</th>\n",
       "      <th>diffuse_radiation_Wm2</th>\n",
       "    </tr>\n",
       "  </thead>\n",
       "  <tbody>\n",
       "    <tr>\n",
       "      <th>0</th>\n",
       "      <td>2025-06-02 21:00:00</td>\n",
       "      <td>20.947001</td>\n",
       "      <td>7.9</td>\n",
       "      <td>65</td>\n",
       "      <td>0</td>\n",
       "      <td>16.9</td>\n",
       "      <td>0</td>\n",
       "    </tr>\n",
       "    <tr>\n",
       "      <th>1</th>\n",
       "      <td>2025-06-02 22:00:00</td>\n",
       "      <td>19.997000</td>\n",
       "      <td>6.6</td>\n",
       "      <td>74</td>\n",
       "      <td>0</td>\n",
       "      <td>16.9</td>\n",
       "      <td>0</td>\n",
       "    </tr>\n",
       "    <tr>\n",
       "      <th>2</th>\n",
       "      <td>2025-06-02 23:00:00</td>\n",
       "      <td>19.396999</td>\n",
       "      <td>5.5</td>\n",
       "      <td>78</td>\n",
       "      <td>0</td>\n",
       "      <td>16.9</td>\n",
       "      <td>0</td>\n",
       "    </tr>\n",
       "    <tr>\n",
       "      <th>3</th>\n",
       "      <td>2025-06-03 00:00:00</td>\n",
       "      <td>18.896999</td>\n",
       "      <td>4.9</td>\n",
       "      <td>80</td>\n",
       "      <td>0</td>\n",
       "      <td>17.0</td>\n",
       "      <td>0</td>\n",
       "    </tr>\n",
       "    <tr>\n",
       "      <th>4</th>\n",
       "      <td>2025-06-03 01:00:00</td>\n",
       "      <td>18.597000</td>\n",
       "      <td>4.9</td>\n",
       "      <td>83</td>\n",
       "      <td>0</td>\n",
       "      <td>17.0</td>\n",
       "      <td>0</td>\n",
       "    </tr>\n",
       "    <tr>\n",
       "      <th>...</th>\n",
       "      <td>...</td>\n",
       "      <td>...</td>\n",
       "      <td>...</td>\n",
       "      <td>...</td>\n",
       "      <td>...</td>\n",
       "      <td>...</td>\n",
       "      <td>...</td>\n",
       "    </tr>\n",
       "    <tr>\n",
       "      <th>907</th>\n",
       "      <td>2025-07-10 16:00:00</td>\n",
       "      <td>34.689003</td>\n",
       "      <td>8.3</td>\n",
       "      <td>37</td>\n",
       "      <td>0</td>\n",
       "      <td>16.1</td>\n",
       "      <td>59</td>\n",
       "    </tr>\n",
       "    <tr>\n",
       "      <th>908</th>\n",
       "      <td>2025-07-10 17:00:00</td>\n",
       "      <td>32.739002</td>\n",
       "      <td>8.7</td>\n",
       "      <td>45</td>\n",
       "      <td>0</td>\n",
       "      <td>16.1</td>\n",
       "      <td>22</td>\n",
       "    </tr>\n",
       "    <tr>\n",
       "      <th>909</th>\n",
       "      <td>2025-07-10 18:00:00</td>\n",
       "      <td>30.838999</td>\n",
       "      <td>9.1</td>\n",
       "      <td>52</td>\n",
       "      <td>0</td>\n",
       "      <td>16.1</td>\n",
       "      <td>0</td>\n",
       "    </tr>\n",
       "    <tr>\n",
       "      <th>910</th>\n",
       "      <td>2025-07-10 19:00:00</td>\n",
       "      <td>29.239000</td>\n",
       "      <td>7.9</td>\n",
       "      <td>58</td>\n",
       "      <td>0</td>\n",
       "      <td>16.1</td>\n",
       "      <td>0</td>\n",
       "    </tr>\n",
       "    <tr>\n",
       "      <th>911</th>\n",
       "      <td>2025-07-10 20:00:00</td>\n",
       "      <td>27.688999</td>\n",
       "      <td>6.8</td>\n",
       "      <td>64</td>\n",
       "      <td>0</td>\n",
       "      <td>16.1</td>\n",
       "      <td>0</td>\n",
       "    </tr>\n",
       "  </tbody>\n",
       "</table>\n",
       "<p>912 rows × 7 columns</p>\n",
       "</div>"
      ],
      "text/plain": [
       "                datetime  temperature_C  wind_speed_mps  humidity_percent  \\\n",
       "0    2025-06-02 21:00:00      20.947001             7.9                65   \n",
       "1    2025-06-02 22:00:00      19.997000             6.6                74   \n",
       "2    2025-06-02 23:00:00      19.396999             5.5                78   \n",
       "3    2025-06-03 00:00:00      18.896999             4.9                80   \n",
       "4    2025-06-03 01:00:00      18.597000             4.9                83   \n",
       "..                   ...            ...             ...               ...   \n",
       "907  2025-07-10 16:00:00      34.689003             8.3                37   \n",
       "908  2025-07-10 17:00:00      32.739002             8.7                45   \n",
       "909  2025-07-10 18:00:00      30.838999             9.1                52   \n",
       "910  2025-07-10 19:00:00      29.239000             7.9                58   \n",
       "911  2025-07-10 20:00:00      27.688999             6.8                64   \n",
       "\n",
       "     rainfall_mm  soil_moisture_percent  diffuse_radiation_Wm2  \n",
       "0              0                   16.9                      0  \n",
       "1              0                   16.9                      0  \n",
       "2              0                   16.9                      0  \n",
       "3              0                   17.0                      0  \n",
       "4              0                   17.0                      0  \n",
       "..           ...                    ...                    ...  \n",
       "907            0                   16.1                     59  \n",
       "908            0                   16.1                     22  \n",
       "909            0                   16.1                      0  \n",
       "910            0                   16.1                      0  \n",
       "911            0                   16.1                      0  \n",
       "\n",
       "[912 rows x 7 columns]"
      ]
     },
     "execution_count": 42,
     "metadata": {},
     "output_type": "execute_result"
    }
   ],
   "source": [
    "file_path = (r'C:\\Users\\Dell\\Desktop\\hourly_weather_data.csv') \n",
    "\n",
    "try:\n",
    "    data = read_data(file_path)\n",
    "    print(\"Data loaded successfully.\")\n",
    "except Exception as e:\n",
    "    print(f\" Error: {e}\")\n",
    "    data = None\n",
    "data"
   ]
  },
  {
   "cell_type": "code",
   "execution_count": 36,
   "id": "f3185039-039f-45ab-b0bc-643cefa073e3",
   "metadata": {},
   "outputs": [
    {
     "name": "stdout",
     "output_type": "stream",
     "text": [
      "The dataset contains 912 rows and 7 columns.\n"
     ]
    }
   ],
   "source": [
    "if data is not None:\n",
    "    summarize_data(data)\n"
   ]
  },
  {
   "cell_type": "code",
   "execution_count": 37,
   "id": "5ef5d23a-85d6-4808-8930-6f2929fcba97",
   "metadata": {},
   "outputs": [
    {
     "name": "stdout",
     "output_type": "stream",
     "text": [
      "Missing values in column 'temperature_C': 0\n"
     ]
    }
   ],
   "source": [
    "column = 'temperature_C' \n",
    "result = count_missing_values(data, column)\n",
    "    \n",
    "if result is not None:\n",
    "    print(f\"Missing values in column '{column}': {result}\")"
   ]
  }
 ],
 "metadata": {
  "kernelspec": {
   "display_name": "Python [conda env:base] *",
   "language": "python",
   "name": "conda-base-py"
  },
  "language_info": {
   "codemirror_mode": {
    "name": "ipython",
    "version": 3
   },
   "file_extension": ".py",
   "mimetype": "text/x-python",
   "name": "python",
   "nbconvert_exporter": "python",
   "pygments_lexer": "ipython3",
   "version": "3.13.5"
  }
 },
 "nbformat": 4,
 "nbformat_minor": 5
}
